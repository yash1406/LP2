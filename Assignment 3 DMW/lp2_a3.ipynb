{
 "cells": [
  {
   "cell_type": "markdown",
   "metadata": {},
   "source": [
    "Apply a-priori algorithm to find frequently occurring items from given data   and   generate   strong   association   rules   using   support   and confidence thresholds.For Example: Market Basket Analysis\n",
    "\n",
    "29 Aug 2020"
   ]
  },
  {
   "cell_type": "code",
   "execution_count": 1,
   "metadata": {},
   "outputs": [],
   "source": [
    "import numpy as np\n",
    "import pandas as pd\n",
    "from apyori import apriori"
   ]
  },
  {
   "cell_type": "code",
   "execution_count": 2,
   "metadata": {},
   "outputs": [
    {
     "name": "stdout",
     "output_type": "stream",
     "text": [
      "              0          1           2                 3             4   \\\n",
      "0         shrimp    almonds     avocado    vegetables mix  green grapes   \n",
      "1        burgers  meatballs        eggs               NaN           NaN   \n",
      "2        chutney        NaN         NaN               NaN           NaN   \n",
      "3         turkey    avocado         NaN               NaN           NaN   \n",
      "4  mineral water       milk  energy bar  whole wheat rice     green tea   \n",
      "\n",
      "                  5     6               7             8             9   \\\n",
      "0  whole wheat flour  yams  cottage cheese  energy drink  tomato juice   \n",
      "1                NaN   NaN             NaN           NaN           NaN   \n",
      "2                NaN   NaN             NaN           NaN           NaN   \n",
      "3                NaN   NaN             NaN           NaN           NaN   \n",
      "4                NaN   NaN             NaN           NaN           NaN   \n",
      "\n",
      "               10         11     12     13             14      15  \\\n",
      "0  low fat yogurt  green tea  honey  salad  mineral water  salmon   \n",
      "1             NaN        NaN    NaN    NaN            NaN     NaN   \n",
      "2             NaN        NaN    NaN    NaN            NaN     NaN   \n",
      "3             NaN        NaN    NaN    NaN            NaN     NaN   \n",
      "4             NaN        NaN    NaN    NaN            NaN     NaN   \n",
      "\n",
      "                  16               17       18         19  \n",
      "0  antioxydant juice  frozen smoothie  spinach  olive oil  \n",
      "1                NaN              NaN      NaN        NaN  \n",
      "2                NaN              NaN      NaN        NaN  \n",
      "3                NaN              NaN      NaN        NaN  \n",
      "4                NaN              NaN      NaN        NaN  \n"
     ]
    }
   ],
   "source": [
    "data=pd.read_csv(\"mba.csv\",header=None)\n",
    "print(data.head())"
   ]
  },
  {
   "cell_type": "code",
   "execution_count": 3,
   "metadata": {},
   "outputs": [
    {
     "name": "stdout",
     "output_type": "stream",
     "text": [
      "[['shrimp', 'almonds', 'avocado', 'vegetables mix', 'green grapes', 'whole wheat flour', 'yams', 'cottage cheese', 'energy drink', 'tomato juice', 'low fat yogurt', 'green tea', 'honey', 'salad', 'mineral water', 'salmon', 'antioxydant juice', 'frozen smoothie', 'spinach', 'olive oil'], ['burgers', 'meatballs', 'eggs', 'nan', 'nan', 'nan', 'nan', 'nan', 'nan', 'nan', 'nan', 'nan', 'nan', 'nan', 'nan', 'nan', 'nan', 'nan', 'nan', 'nan']]\n"
     ]
    }
   ],
   "source": [
    "obs=[]\n",
    "for i in range(len(data)):\n",
    "    obs.append([])\n",
    "    for j in range(20):\n",
    "        obs[-1].append(str(data.values[i,j]))\n",
    "print(obs[:2])"
   ]
  },
  {
   "cell_type": "markdown",
   "metadata": {},
   "source": [
    "\n",
    "- Support(I)=(No. of txn with I)/(total txn)\n",
    "\n",
    "- Confidence(I1->I2)=(No. of txn with I1 & I2)/(No. of txn with I1)\n",
    "\n",
    "- Lift(I1->I2)=Confidence(I1->I2)/Support(I2)\n"
   ]
  },
  {
   "cell_type": "code",
   "execution_count": 4,
   "metadata": {},
   "outputs": [],
   "source": [
    "assoc=apriori(obs,min_support=0.005,min_confidence=0.3,min_lift=2,min_length=2)\n",
    "assoc=list(assoc)"
   ]
  },
  {
   "cell_type": "code",
   "execution_count": 5,
   "metadata": {},
   "outputs": [
    {
     "name": "stdout",
     "output_type": "stream",
     "text": [
      "167\n"
     ]
    }
   ],
   "source": [
    "print(len(assoc))"
   ]
  },
  {
   "cell_type": "code",
   "execution_count": 6,
   "metadata": {},
   "outputs": [
    {
     "name": "stdout",
     "output_type": "stream",
     "text": [
      "RelationRecord(items=frozenset({'mushroom cream sauce', 'escalope'}), support=0.005732568990801226, ordered_statistics=[OrderedStatistic(items_base=frozenset({'mushroom cream sauce'}), items_add=frozenset({'escalope'}), confidence=0.3006993006993007, lift=3.790832696715049)])\n"
     ]
    }
   ],
   "source": [
    "print(assoc[1])"
   ]
  },
  {
   "cell_type": "markdown",
   "metadata": {},
   "source": [
    "RelationRecord(items=frozenset({'mushroom cream sauce', 'escalope'}), support=0.005732568990801226, ordered_statistics=[OrderedStatistic(items_base=frozenset({'mushroom cream sauce'}), items_add=frozenset({'escalope'}), confidence=0.3006993006993007, lift=3.790832696715049)])\n",
    "\n",
    "According to the above association:\n",
    "- 0.5% txn contain M and E. (S)\n",
    "- 30% of the txn containing M also contains E. (C)\n",
    "- E is 3.79 times more likely to bought by customers who bought M compared to the default sale of E. "
   ]
  },
  {
   "cell_type": "code",
   "execution_count": null,
   "metadata": {},
   "outputs": [],
   "source": []
  }
 ],
 "metadata": {
  "kernelspec": {
   "display_name": "Python 3",
   "language": "python",
   "name": "python3"
  },
  "language_info": {
   "codemirror_mode": {
    "name": "ipython",
    "version": 3
   },
   "file_extension": ".py",
   "mimetype": "text/x-python",
   "name": "python",
   "nbconvert_exporter": "python",
   "pygments_lexer": "ipython3",
   "version": "3.7.1"
  }
 },
 "nbformat": 4,
 "nbformat_minor": 2
}
