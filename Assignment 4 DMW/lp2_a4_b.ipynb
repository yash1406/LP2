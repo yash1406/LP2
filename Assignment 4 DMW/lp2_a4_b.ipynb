{
 "cells": [
  {
   "cell_type": "markdown",
   "metadata": {},
   "source": [
    "Consider a suitable text dataset. Remove stop words, apply stemming and feature selection techniques to represent documents as vectors.Classify documents and evaluate precision, recall.\n",
    "\n",
    "5 Sept 2020"
   ]
  },
  {
   "cell_type": "code",
   "execution_count": 1,
   "metadata": {},
   "outputs": [],
   "source": [
    "import numpy as np\n",
    "import pandas as pd\n",
    "from sklearn.model_selection import train_test_split\n",
    "from sklearn.feature_extraction.text import CountVectorizer\n",
    "from sklearn.naive_bayes import MultinomialNB"
   ]
  },
  {
   "cell_type": "code",
   "execution_count": 2,
   "metadata": {},
   "outputs": [
    {
     "name": "stdout",
     "output_type": "stream",
     "text": [
      "  Category                                            Message\n",
      "0      ham  Go until jurong point, crazy.. Available only ...\n",
      "1      ham                      Ok lar... Joking wif u oni...\n",
      "2     spam  Free entry in 2 a wkly comp to win FA Cup fina...\n",
      "3      ham  U dun say so early hor... U c already then say...\n",
      "4      ham  Nah I don't think he goes to usf, he lives aro...\n",
      "\n",
      "                                             Message  Spam\n",
      "0  Go until jurong point, crazy.. Available only ...     0\n",
      "1                      Ok lar... Joking wif u oni...     0\n",
      "2  Free entry in 2 a wkly comp to win FA Cup fina...     1\n",
      "3  U dun say so early hor... U c already then say...     0\n",
      "4  Nah I don't think he goes to usf, he lives aro...     0\n"
     ]
    }
   ],
   "source": [
    "data=pd.read_csv(\"spam.csv\")\n",
    "print(data.head())\n",
    "spam=[]\n",
    "for i in data[\"Category\"]:\n",
    "    if i==\"ham\":\n",
    "        spam.append(0)\n",
    "    else:\n",
    "        spam.append(1)\n",
    "print()\n",
    "data[\"Spam\"]=spam\n",
    "del data[\"Category\"]\n",
    "print(data.head())"
   ]
  },
  {
   "cell_type": "code",
   "execution_count": 3,
   "metadata": {},
   "outputs": [
    {
     "name": "stdout",
     "output_type": "stream",
     "text": [
      "['00', '000', '000pes', '008704050406', '0089', '0121', '01223585236', '01223585334', '0125698789', '02']\n",
      "[0 0 0 ... 0 0 0]\n"
     ]
    }
   ],
   "source": [
    "cv=CountVectorizer()\n",
    "features=cv.fit_transform(data[\"Message\"])\n",
    "print(cv.get_feature_names()[:10]) # set of all words in all training data\n",
    "print(features.toarray()[0]) # array of size 8709 with each index having freq of corresponding word"
   ]
  },
  {
   "cell_type": "code",
   "execution_count": 4,
   "metadata": {},
   "outputs": [
    {
     "name": "stdout",
     "output_type": "stream",
     "text": [
      "0.9802690582959641\n"
     ]
    }
   ],
   "source": [
    "xtn,xtt,ytn,ytt=train_test_split(data[\"Message\"],data[\"Spam\"],test_size=0.2)\n",
    "train_freq=cv.fit_transform(xtn)\n",
    "mdl=MultinomialNB()\n",
    "mdl.fit(train_freq,ytn)\n",
    "print(mdl.score(cv.transform(xtt),ytt))"
   ]
  },
  {
   "cell_type": "code",
   "execution_count": 5,
   "metadata": {},
   "outputs": [
    {
     "name": "stdout",
     "output_type": "stream",
     "text": [
      "[1]\n"
     ]
    }
   ],
   "source": [
    "email=[\"Win exciting offers by using this code:2wjc36\"]\n",
    "print(mdl.predict(cv.transform(email)))"
   ]
  },
  {
   "cell_type": "code",
   "execution_count": 6,
   "metadata": {},
   "outputs": [
    {
     "name": "stdout",
     "output_type": "stream",
     "text": [
      "[0]\n"
     ]
    }
   ],
   "source": [
    "email=[\"Hi man. Long time no see. Let's meet some day.\"]\n",
    "print(mdl.predict(cv.transform(email)))"
   ]
  },
  {
   "cell_type": "code",
   "execution_count": null,
   "metadata": {},
   "outputs": [],
   "source": []
  }
 ],
 "metadata": {
  "kernelspec": {
   "display_name": "Python 3",
   "language": "python",
   "name": "python3"
  },
  "language_info": {
   "codemirror_mode": {
    "name": "ipython",
    "version": 3
   },
   "file_extension": ".py",
   "mimetype": "text/x-python",
   "name": "python",
   "nbconvert_exporter": "python",
   "pygments_lexer": "ipython3",
   "version": "3.7.1"
  }
 },
 "nbformat": 4,
 "nbformat_minor": 2
}
