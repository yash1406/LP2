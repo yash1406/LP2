{
 "cells": [
  {
   "cell_type": "markdown",
   "metadata": {},
   "source": [
    "Consider a suitable text dataset. Remove stop words, apply stemming and feature selection techniques to represent documents as vectors.Classify documents and evaluate precision, recall.\n",
    "\n",
    "5 Sept 2020"
   ]
  },
  {
   "cell_type": "code",
   "execution_count": 1,
   "metadata": {},
   "outputs": [],
   "source": [
    "import nltk\n",
    "# nltk.download(\"punkt\")\n",
    "# nltk.download(\"stopwords\")\n",
    "# nltk.download(\"wordnet\")\n",
    "# nltk.download(\"averaged_perceptron_tagger\")\n",
    "from nltk.corpus import stopwords\n",
    "from nltk.stem import SnowballStemmer\n",
    "from nltk.stem import PorterStemmer\n",
    "from nltk.stem import WordNetLemmatizer\n",
    "from sklearn.feature_extraction.text import CountVectorizer\n",
    "from sklearn.feature_extraction.text import TfidfVectorizer\n",
    "from wordcloud import WordCloud\n",
    "import matplotlib.pyplot as plt"
   ]
  },
  {
   "cell_type": "code",
   "execution_count": 2,
   "metadata": {},
   "outputs": [
    {
     "name": "stdout",
     "output_type": "stream",
     "text": [
      "The question how knowledge should be defined is perhaps the most important and difficult of the three with which we shall deal. This may seem surprising, at first sight it might be thought that knowledge might be defined as belief which is in agreement with the facts. The trouble is that no one knows what a belief is, no one knows what a fact is, and no one knows what sort of agreement between them would make a belief true. Let us begin with belief.\n"
     ]
    }
   ],
   "source": [
    "f=open(\"sample_nltk.txt\",\"r\")\n",
    "text=f.read()\n",
    "print(text)"
   ]
  },
  {
   "cell_type": "code",
   "execution_count": 3,
   "metadata": {},
   "outputs": [
    {
     "name": "stdout",
     "output_type": "stream",
     "text": [
      "['The question how knowledge should be defined is perhaps the most important and difficult of the three with which we shall deal.', 'This may seem surprising, at first sight it might be thought that knowledge might be defined as belief which is in agreement with the facts.', 'The trouble is that no one knows what a belief is, no one knows what a fact is, and no one knows what sort of agreement between them would make a belief true.', 'Let us begin with belief.']\n"
     ]
    }
   ],
   "source": [
    "sentences=nltk.sent_tokenize(text)\n",
    "print(sentences)"
   ]
  },
  {
   "cell_type": "code",
   "execution_count": 4,
   "metadata": {},
   "outputs": [
    {
     "name": "stdout",
     "output_type": "stream",
     "text": [
      "['the', 'question', 'how', 'knowledge', 'should', 'be', 'defined', 'is', 'perhaps', 'the', 'most', 'important', 'and', 'difficult', 'of', 'the', 'three', 'with', 'which', 'we', 'shall', 'deal', 'this', 'may', 'seem', 'surprising', 'at', 'first', 'sight', 'it', 'might', 'be', 'thought', 'that', 'knowledge', 'might', 'be', 'defined', 'as', 'belief', 'which', 'is', 'in', 'agreement', 'with', 'the', 'facts', 'the', 'trouble', 'is', 'that', 'no', 'one', 'knows', 'what', 'a', 'belief', 'is', 'no', 'one', 'knows', 'what', 'a', 'fact', 'is', 'and', 'no', 'one', 'knows', 'what', 'sort', 'of', 'agreement', 'between', 'them', 'would', 'make', 'a', 'belief', 'true', 'let', 'us', 'begin', 'with', 'belief']\n"
     ]
    }
   ],
   "source": [
    "_words=nltk.word_tokenize(text)\n",
    "words=[]\n",
    "for word in _words:\n",
    "    if word.isalpha():\n",
    "        words.append(word.lower())\n",
    "print(words)"
   ]
  },
  {
   "cell_type": "code",
   "execution_count": 5,
   "metadata": {},
   "outputs": [
    {
     "name": "stdout",
     "output_type": "stream",
     "text": [
      "['i', 'me', 'my', 'myself', 'we', 'our', 'ours', 'ourselves', 'you', \"you're\", \"you've\", \"you'll\", \"you'd\", 'your', 'yours', 'yourself', 'yourselves', 'he', 'him', 'his', 'himself', 'she', \"she's\", 'her', 'hers', 'herself', 'it', \"it's\", 'its', 'itself', 'they', 'them', 'their', 'theirs', 'themselves', 'what', 'which', 'who', 'whom', 'this', 'that', \"that'll\", 'these', 'those', 'am', 'is', 'are', 'was', 'were', 'be', 'been', 'being', 'have', 'has', 'had', 'having', 'do', 'does', 'did', 'doing', 'a', 'an', 'the', 'and', 'but', 'if', 'or', 'because', 'as', 'until', 'while', 'of', 'at', 'by', 'for', 'with', 'about', 'against', 'between', 'into', 'through', 'during', 'before', 'after', 'above', 'below', 'to', 'from', 'up', 'down', 'in', 'out', 'on', 'off', 'over', 'under', 'again', 'further', 'then', 'once', 'here', 'there', 'when', 'where', 'why', 'how', 'all', 'any', 'both', 'each', 'few', 'more', 'most', 'other', 'some', 'such', 'no', 'nor', 'not', 'only', 'own', 'same', 'so', 'than', 'too', 'very', 's', 't', 'can', 'will', 'just', 'don', \"don't\", 'should', \"should've\", 'now', 'd', 'll', 'm', 'o', 're', 've', 'y', 'ain', 'aren', \"aren't\", 'couldn', \"couldn't\", 'didn', \"didn't\", 'doesn', \"doesn't\", 'hadn', \"hadn't\", 'hasn', \"hasn't\", 'haven', \"haven't\", 'isn', \"isn't\", 'ma', 'mightn', \"mightn't\", 'mustn', \"mustn't\", 'needn', \"needn't\", 'shan', \"shan't\", 'shouldn', \"shouldn't\", 'wasn', \"wasn't\", 'weren', \"weren't\", 'won', \"won't\", 'wouldn', \"wouldn't\"]\n"
     ]
    }
   ],
   "source": [
    "stop_words=stopwords.words(\"english\")\n",
    "print(stop_words)"
   ]
  },
  {
   "cell_type": "code",
   "execution_count": 6,
   "metadata": {},
   "outputs": [
    {
     "name": "stdout",
     "output_type": "stream",
     "text": [
      "[['question', 'knowledge', 'defined', 'perhaps', 'important', 'difficult', 'three', 'shall', 'deal.'], ['may', 'seem', 'surprising,', 'first', 'sight', 'might', 'thought', 'knowledge', 'might', 'defined', 'belief', 'agreement', 'facts.'], ['trouble', 'one', 'knows', 'belief', 'is,', 'one', 'knows', 'fact', 'is,', 'one', 'knows', 'sort', 'agreement', 'would', 'make', 'belief', 'true.'], ['Let', 'us', 'begin', 'belief.']]\n"
     ]
    }
   ],
   "source": [
    "cleaned=[]\n",
    "for sentence in sentences:\n",
    "    cleaned.append([])\n",
    "    for word in sentence.split():\n",
    "        if word.lower() not in stop_words:\n",
    "            cleaned[-1].append(word)\n",
    "print(cleaned)"
   ]
  },
  {
   "cell_type": "code",
   "execution_count": 7,
   "metadata": {},
   "outputs": [
    {
     "data": {
      "text/plain": [
       "<matplotlib.image.AxesImage at 0x2bf658619b0>"
      ]
     },
     "execution_count": 7,
     "metadata": {},
     "output_type": "execute_result"
    },
    {
     "data": {
      "image/png": "[encoded data removed]",
      "text/plain": [
       "<Figure size 576x576 with 1 Axes>"
      ]
     },
     "metadata": {
      "needs_background": "light"
     },
     "output_type": "display_data"
    }
   ],
   "source": [
    "cwords=[]\n",
    "for sent in cleaned:\n",
    "    for w in sent:\n",
    "        cwords.append(w)\n",
    "wc=WordCloud().generate(\" \".join(cwords))\n",
    "plt.figure(figsize=(8,8))\n",
    "plt.axis(\"off\")\n",
    "plt.imshow(wc)"
   ]
  },
  {
   "cell_type": "code",
   "execution_count": 8,
   "metadata": {},
   "outputs": [
    {
     "name": "stdout",
     "output_type": "stream",
     "text": [
      "[['question', 'knowledg', 'defin', 'perhap', 'import', 'difficult', 'three', 'shall', 'deal.'], ['may', 'seem', 'surprising,', 'first', 'sight', 'might', 'thought', 'knowledg', 'might', 'defin', 'belief', 'agreement', 'facts.'], ['troubl', 'one', 'know', 'belief', 'is,', 'one', 'know', 'fact', 'is,', 'one', 'know', 'sort', 'agreement', 'would', 'make', 'belief', 'true.'], ['let', 'us', 'begin', 'belief.']]\n"
     ]
    }
   ],
   "source": [
    "sst=SnowballStemmer(\"english\")\n",
    "s_stemmed=[]\n",
    "for sent in cleaned:\n",
    "    s_stemmed.append([])\n",
    "    for word in sent:\n",
    "        s_stemmed[-1].append(sst.stem(word))\n",
    "print(s_stemmed)"
   ]
  },
  {
   "cell_type": "code",
   "execution_count": 9,
   "metadata": {},
   "outputs": [
    {
     "name": "stdout",
     "output_type": "stream",
     "text": [
      "[['question', 'knowledg', 'defin', 'perhap', 'import', 'difficult', 'three', 'shall', 'deal.'], ['may', 'seem', 'surprising,', 'first', 'sight', 'might', 'thought', 'knowledg', 'might', 'defin', 'belief', 'agreement', 'facts.'], ['troubl', 'one', 'know', 'belief', 'is,', 'one', 'know', 'fact', 'is,', 'one', 'know', 'sort', 'agreement', 'would', 'make', 'belief', 'true.'], ['let', 'us', 'begin', 'belief.']]\n"
     ]
    }
   ],
   "source": [
    "pst=PorterStemmer()\n",
    "p_stemmed=[]\n",
    "for sent in cleaned:\n",
    "    p_stemmed.append([])\n",
    "    for word in sent:\n",
    "        p_stemmed[-1].append(pst.stem(word))\n",
    "print(p_stemmed)"
   ]
  },
  {
   "cell_type": "code",
   "execution_count": 10,
   "metadata": {},
   "outputs": [
    {
     "name": "stdout",
     "output_type": "stream",
     "text": [
      "open\n",
      "openli\n"
     ]
    }
   ],
   "source": [
    "print(sst.stem(\"openly\"))\n",
    "print(pst.stem(\"openly\"))"
   ]
  },
  {
   "cell_type": "code",
   "execution_count": 11,
   "metadata": {},
   "outputs": [],
   "source": [
    "# SnowballStemmer is better\n",
    "stemmed=s_stemmed.copy()"
   ]
  },
  {
   "cell_type": "code",
   "execution_count": 12,
   "metadata": {},
   "outputs": [
    {
     "name": "stdout",
     "output_type": "stream",
     "text": [
      "[['question', 'knowledge', 'define', 'perhaps', 'important', 'difficult', 'three', 'shall', 'deal.'], ['may', 'seem', 'surprising,', 'first', 'sight', 'might', 'think', 'knowledge', 'might', 'define', 'belief', 'agreement', 'facts.'], ['trouble', 'one', 'know', 'belief', 'is,', 'one', 'know', 'fact', 'is,', 'one', 'know', 'sort', 'agreement', 'would', 'make', 'belief', 'true.'], ['Let', 'us', 'begin', 'belief.']]\n"
     ]
    }
   ],
   "source": [
    "lem=WordNetLemmatizer()\n",
    "lemmatized=[]\n",
    "for sent in cleaned:\n",
    "    lemmatized.append([])\n",
    "    for word in sent:\n",
    "        lemmatized[-1].append(lem.lemmatize(word,pos=\"v\"))\n",
    "print(lemmatized)"
   ]
  },
  {
   "cell_type": "code",
   "execution_count": 13,
   "metadata": {},
   "outputs": [
    {
     "name": "stdout",
     "output_type": "stream",
     "text": [
      "{'question': 19, 'knowledge': 12, 'define': 4, 'perhaps': 18, 'important': 9, 'difficult': 5, 'three': 26, 'shall': 21, 'deal': 3, 'may': 15, 'seem': 20, 'surprising': 24, 'first': 8, 'sight': 22, 'might': 16, 'think': 25, 'belief': 2, 'agreement': 0, 'facts': 7, 'trouble': 27, 'one': 17, 'know': 11, 'is': 10, 'fact': 6, 'sort': 23, 'would': 30, 'make': 14, 'true': 28, 'let': 13, 'us': 29, 'begin': 1}\n",
      "['agreement', 'begin', 'belief', 'deal', 'define', 'difficult', 'fact', 'facts', 'first', 'important', 'is', 'know', 'knowledge', 'let', 'make', 'may', 'might', 'one', 'perhaps', 'question', 'seem', 'shall', 'sight', 'sort', 'surprising', 'think', 'three', 'trouble', 'true', 'us', 'would']\n",
      "[[0 0 0 1 1 1 0 0 0 1 0 0 1 0 0 0 0 0 1 1 0 1 0 0 0 0 1 0 0 0 0]\n",
      " [1 0 1 0 1 0 0 1 1 0 0 0 1 0 0 1 2 0 0 0 1 0 1 0 1 1 0 0 0 0 0]\n",
      " [1 0 2 0 0 0 1 0 0 0 2 3 0 0 1 0 0 3 0 0 0 0 0 1 0 0 0 1 1 0 1]\n",
      " [0 1 1 0 0 0 0 0 0 0 0 0 0 1 0 0 0 0 0 0 0 0 0 0 0 0 0 0 0 1 0]]\n"
     ]
    }
   ],
   "source": [
    "sentences=[]\n",
    "for sent in lemmatized:\n",
    "    sentences.append(\" \".join(sent))\n",
    "        \n",
    "cv=CountVectorizer()\n",
    "bag=cv.fit_transform(sentences).toarray()\n",
    "print(cv.vocabulary_)\n",
    "print(cv.get_feature_names())\n",
    "print(bag)"
   ]
  },
  {
   "cell_type": "code",
   "execution_count": 14,
   "metadata": {},
   "outputs": [
    {
     "name": "stdout",
     "output_type": "stream",
     "text": [
      "{'question': 19, 'knowledge': 12, 'define': 4, 'perhaps': 18, 'important': 9, 'difficult': 5, 'three': 26, 'shall': 21, 'deal': 3, 'may': 15, 'seem': 20, 'surprising': 24, 'first': 8, 'sight': 22, 'might': 16, 'think': 25, 'belief': 2, 'agreement': 0, 'facts': 7, 'trouble': 27, 'one': 17, 'know': 11, 'is': 10, 'fact': 6, 'sort': 23, 'would': 30, 'make': 14, 'true': 28, 'let': 13, 'us': 29, 'begin': 1}\n",
      "['agreement', 'begin', 'belief', 'deal', 'define', 'difficult', 'fact', 'facts', 'first', 'important', 'is', 'know', 'knowledge', 'let', 'make', 'may', 'might', 'one', 'perhaps', 'question', 'seem', 'shall', 'sight', 'sort', 'surprising', 'think', 'three', 'trouble', 'true', 'us', 'would']\n",
      "[[0.         0.         0.         0.34829919 0.27460308 0.34829919\n",
      "  0.         0.         0.         0.34829919 0.         0.\n",
      "  0.27460308 0.         0.         0.         0.         0.\n",
      "  0.34829919 0.34829919 0.         0.34829919 0.         0.\n",
      "  0.         0.         0.34829919 0.         0.         0.\n",
      "  0.        ]\n",
      " [0.21641217 0.         0.1752043  0.         0.21641217 0.\n",
      "  0.         0.27449139 0.27449139 0.         0.         0.\n",
      "  0.21641217 0.         0.         0.27449139 0.54898279 0.\n",
      "  0.         0.         0.27449139 0.         0.27449139 0.\n",
      "  0.27449139 0.27449139 0.         0.         0.         0.\n",
      "  0.        ]\n",
      " [0.14334462 0.         0.23209965 0.         0.         0.\n",
      "  0.18181447 0.         0.         0.         0.36362895 0.54544342\n",
      "  0.         0.         0.18181447 0.         0.         0.54544342\n",
      "  0.         0.         0.         0.         0.         0.18181447\n",
      "  0.         0.         0.         0.18181447 0.18181447 0.\n",
      "  0.18181447]\n",
      " [0.         0.5417361  0.34578314 0.         0.         0.\n",
      "  0.         0.         0.         0.         0.         0.\n",
      "  0.         0.5417361  0.         0.         0.         0.\n",
      "  0.         0.         0.         0.         0.         0.\n",
      "  0.         0.         0.         0.         0.         0.5417361\n",
      "  0.        ]]\n"
     ]
    }
   ],
   "source": [
    "tv=TfidfVectorizer()\n",
    "mod=tv.fit_transform(sentences).toarray()\n",
    "print(tv.vocabulary_)\n",
    "print(tv.get_feature_names())\n",
    "print(mod)"
   ]
  },
  {
   "cell_type": "code",
   "execution_count": null,
   "metadata": {},
   "outputs": [],
   "source": []
  }
 ],
 "metadata": {
  "kernelspec": {
   "display_name": "Python 3",
   "language": "python",
   "name": "python3"
  },
  "language_info": {
   "codemirror_mode": {
    "name": "ipython",
    "version": 3
   },
   "file_extension": ".py",
   "mimetype": "text/x-python",
   "name": "python",
   "nbconvert_exporter": "python",
   "pygments_lexer": "ipython3",
   "version": "3.7.1"
  }
 },
 "nbformat": 4,
 "nbformat_minor": 2
}
